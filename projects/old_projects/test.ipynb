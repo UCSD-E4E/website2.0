{
 "cells": [
  {
   "cell_type": "code",
   "execution_count": 3,
   "metadata": {},
   "outputs": [],
   "source": [
    "import os"
   ]
  },
  {
   "cell_type": "markdown",
   "metadata": {},
   "source": [
    "# generate old project pages"
   ]
  },
  {
   "cell_type": "code",
   "execution_count": 4,
   "metadata": {},
   "outputs": [],
   "source": [
    "projects = os.listdir(\"./\")"
   ]
  },
  {
   "cell_type": "code",
   "execution_count": 5,
   "metadata": {},
   "outputs": [
    {
     "name": "stdout",
     "output_type": "stream",
     "text": [
      "---\n",
      "layout: project\n",
      "permalink: aerial-lidar\n",
      "title: Aerial Lidar\n",
      "tag: aerial-lidar\n",
      "enable_nav: false\n",
      "---\n",
      "    \n",
      "---\n",
      "layout: project\n",
      "permalink: angry-birds\n",
      "title: Angry Birds\n",
      "tag: angry-birds\n",
      "enable_nav: false\n",
      "---\n",
      "    \n",
      "---\n",
      "layout: project\n",
      "permalink: auto-airplanes\n",
      "title: Auto Airplanes\n",
      "tag: auto-airplanes\n",
      "enable_nav: false\n",
      "---\n",
      "    \n",
      "---\n",
      "layout: project\n",
      "permalink: auto-copters\n",
      "title: Auto Copters\n",
      "tag: auto-copters\n",
      "enable_nav: false\n",
      "---\n",
      "    \n",
      "---\n",
      "layout: project\n",
      "permalink: aye-aye\n",
      "title: Aye Aye\n",
      "tag: aye-aye\n",
      "enable_nav: false\n",
      "---\n",
      "    \n",
      "---\n",
      "layout: project\n",
      "permalink: bird-net-tracker\n",
      "title: Bird Net Tracker\n",
      "tag: bird-net-tracker\n",
      "enable_nav: false\n",
      "---\n",
      "    \n",
      "---\n",
      "layout: project\n",
      "permalink: burrowing-owls\n",
      "title: Burrowing Owls\n",
      "tag: burrowing-owls\n",
      "enable_nav: false\n",
      "---\n",
      "    \n",
      "---\n",
      "layout: project\n",
      "permalink: condor-cam\n",
      "title: Condor Cam\n",
      "tag: condor-cam\n",
      "enable_nav: false\n",
      "---\n",
      "    \n",
      "---\n",
      "layout: project\n",
      "permalink: del-dios-monitoring\n",
      "title: Del Dios Monitoring\n",
      "tag: del-dios-monitoring\n",
      "enable_nav: false\n",
      "---\n",
      "    \n",
      "---\n",
      "layout: project\n",
      "permalink: elephant-monitoring\n",
      "title: Elephant Monitoring\n",
      "tag: elephant-monitoring\n",
      "enable_nav: false\n",
      "---\n",
      "    \n",
      "---\n",
      "layout: project\n",
      "permalink: Intelligent-camera-trap\n",
      "title: Intelligent Camera Trap\n",
      "tag: Intelligent-camera-trap\n",
      "enable_nav: false\n",
      "---\n",
      "    \n",
      "---\n",
      "layout: project\n",
      "permalink: maya-achaeology\n",
      "title: Maya Achaeology\n",
      "tag: maya-achaeology\n",
      "enable_nav: false\n",
      "---\n",
      "    \n",
      "---\n",
      "layout: project\n",
      "permalink: Nautical Archaeology\n",
      "title: Nautical Archaeology\n",
      "tag: Nautical Archaeology\n",
      "enable_nav: false\n",
      "---\n",
      "    \n",
      "---\n",
      "layout: project\n",
      "permalink: openrov\n",
      "title: Openrov\n",
      "tag: openrov\n",
      "enable_nav: false\n",
      "---\n",
      "    \n",
      "---\n",
      "layout: project\n",
      "permalink: searching-for-harpy-eagles\n",
      "title: Searching For Harpy Eagles\n",
      "tag: searching-for-harpy-eagles\n",
      "enable_nav: false\n",
      "---\n",
      "    \n",
      "---\n",
      "layout: project\n",
      "permalink: stabilized-aerial-camera-platform\n",
      "title: Stabilized Aerial Camera Platform\n",
      "tag: stabilized-aerial-camera-platform\n",
      "enable_nav: false\n",
      "---\n",
      "    \n",
      "---\n",
      "layout: project\n",
      "permalink: terrestrial-vechicle\n",
      "title: Terrestrial Vechicle\n",
      "tag: terrestrial-vechicle\n",
      "enable_nav: false\n",
      "---\n",
      "    \n",
      "---\n",
      "layout: project\n",
      "permalink: tiger-tracking\n",
      "title: Tiger Tracking\n",
      "tag: tiger-tracking\n",
      "enable_nav: false\n",
      "---\n",
      "    \n",
      "---\n",
      "layout: project\n",
      "permalink: tunnel-bot\n",
      "title: Tunnel Bot\n",
      "tag: tunnel-bot\n",
      "enable_nav: false\n",
      "---\n",
      "    \n",
      "---\n",
      "layout: project\n",
      "permalink: underwater-cave-imaging\n",
      "title: Underwater Cave Imaging\n",
      "tag: underwater-cave-imaging\n",
      "enable_nav: false\n",
      "---\n",
      "    \n",
      "---\n",
      "layout: project\n",
      "permalink: vaquita-monitoring\n",
      "title: Vaquita Monitoring\n",
      "tag: vaquita-monitoring\n",
      "enable_nav: false\n",
      "---\n",
      "    \n",
      "---\n",
      "layout: project\n",
      "permalink: wolf-monitoring\n",
      "title: Wolf Monitoring\n",
      "tag: wolf-monitoring\n",
      "enable_nav: false\n",
      "---\n",
      "    \n"
     ]
    }
   ],
   "source": [
    "for project in projects:\n",
    "    if project==\"test.ipynb\": continue\n",
    "    title = \" \".join(project.split(\"-\")).title()\n",
    "    file_format = f\"\"\"---\n",
    "layout: project\n",
    "permalink: {project}\n",
    "title: {title}\n",
    "tag: {project}\n",
    "enable_nav: false\n",
    "---\n",
    "    \"\"\"\n",
    "    with open(f'./{project}/{project}.md', 'w') as f:\n",
    "        f.write(file_format)\n",
    "    print(file_format)"
   ]
  },
  {
   "cell_type": "markdown",
   "metadata": {},
   "source": [
    "# auto formatter"
   ]
  },
  {
   "cell_type": "code",
   "execution_count": 6,
   "metadata": {},
   "outputs": [],
   "source": [
    "import requests"
   ]
  },
  {
   "cell_type": "code",
   "execution_count": 7,
   "metadata": {},
   "outputs": [],
   "source": [
    "request = requests.get(\"https://e4e.ucsd.edu/past-projects\")"
   ]
  },
  {
   "cell_type": "code",
   "execution_count": 8,
   "metadata": {},
   "outputs": [],
   "source": [
    "from bs4 import BeautifulSoup"
   ]
  },
  {
   "cell_type": "code",
   "execution_count": 9,
   "metadata": {},
   "outputs": [],
   "source": [
    "soup = BeautifulSoup(request.text)"
   ]
  },
  {
   "cell_type": "code",
   "execution_count": 10,
   "metadata": {},
   "outputs": [],
   "source": [
    "images = soup.find(id=\"primary\").find_all(\"img\")"
   ]
  },
  {
   "cell_type": "code",
   "execution_count": 11,
   "metadata": {},
   "outputs": [
    {
     "name": "stdout",
     "output_type": "stream",
     "text": [
      "![]({{assets/projects/_old_projects/lubrak-village-frontal-ps3_edited-e1654024061974.jpg | absolute_url}}\n"
     ]
    },
    {
     "ename": "FileNotFoundError",
     "evalue": "[Errno 2] No such file or directory: '../../assets/projects/_old_projects/lubrak-village-frontal-ps3_edited-e1654024061974.jpg'",
     "output_type": "error",
     "traceback": [
      "\u001b[1;31m---------------------------------------------------------------------------\u001b[0m",
      "\u001b[1;31mFileNotFoundError\u001b[0m                         Traceback (most recent call last)",
      "Cell \u001b[1;32mIn[11], line 13\u001b[0m\n\u001b[0;32m      9\u001b[0m data \u001b[38;5;241m=\u001b[39m requests\u001b[38;5;241m.\u001b[39mget(src)\u001b[38;5;241m.\u001b[39mcontent \n\u001b[0;32m     11\u001b[0m \u001b[38;5;66;03m# Opening a new file named img with extension .jpg \u001b[39;00m\n\u001b[0;32m     12\u001b[0m \u001b[38;5;66;03m# This file would store the data of the image file \u001b[39;00m\n\u001b[1;32m---> 13\u001b[0m f \u001b[38;5;241m=\u001b[39m \u001b[38;5;28;43mopen\u001b[39;49m\u001b[43m(\u001b[49m\u001b[43masset_folder\u001b[49m\u001b[43m \u001b[49m\u001b[38;5;241;43m+\u001b[39;49m\u001b[43m \u001b[49m\u001b[43mfilename\u001b[49m\u001b[43m,\u001b[49m\u001b[38;5;124;43m'\u001b[39;49m\u001b[38;5;124;43mwb\u001b[39;49m\u001b[38;5;124;43m'\u001b[39;49m\u001b[43m)\u001b[49m \n\u001b[0;32m     15\u001b[0m \u001b[38;5;66;03m# Storing the image data inside the data variable to the file \u001b[39;00m\n\u001b[0;32m     16\u001b[0m f\u001b[38;5;241m.\u001b[39mwrite(data) \n",
      "File \u001b[1;32mc:\\Users\\seanh\\miniconda3\\envs\\asid\\lib\\site-packages\\IPython\\core\\interactiveshell.py:284\u001b[0m, in \u001b[0;36m_modified_open\u001b[1;34m(file, *args, **kwargs)\u001b[0m\n\u001b[0;32m    277\u001b[0m \u001b[38;5;28;01mif\u001b[39;00m file \u001b[38;5;129;01min\u001b[39;00m {\u001b[38;5;241m0\u001b[39m, \u001b[38;5;241m1\u001b[39m, \u001b[38;5;241m2\u001b[39m}:\n\u001b[0;32m    278\u001b[0m     \u001b[38;5;28;01mraise\u001b[39;00m \u001b[38;5;167;01mValueError\u001b[39;00m(\n\u001b[0;32m    279\u001b[0m         \u001b[38;5;124mf\u001b[39m\u001b[38;5;124m\"\u001b[39m\u001b[38;5;124mIPython won\u001b[39m\u001b[38;5;124m'\u001b[39m\u001b[38;5;124mt let you open fd=\u001b[39m\u001b[38;5;132;01m{\u001b[39;00mfile\u001b[38;5;132;01m}\u001b[39;00m\u001b[38;5;124m by default \u001b[39m\u001b[38;5;124m\"\u001b[39m\n\u001b[0;32m    280\u001b[0m         \u001b[38;5;124m\"\u001b[39m\u001b[38;5;124mas it is likely to crash IPython. If you know what you are doing, \u001b[39m\u001b[38;5;124m\"\u001b[39m\n\u001b[0;32m    281\u001b[0m         \u001b[38;5;124m\"\u001b[39m\u001b[38;5;124myou can use builtins\u001b[39m\u001b[38;5;124m'\u001b[39m\u001b[38;5;124m open.\u001b[39m\u001b[38;5;124m\"\u001b[39m\n\u001b[0;32m    282\u001b[0m     )\n\u001b[1;32m--> 284\u001b[0m \u001b[38;5;28;01mreturn\u001b[39;00m \u001b[43mio_open\u001b[49m\u001b[43m(\u001b[49m\u001b[43mfile\u001b[49m\u001b[43m,\u001b[49m\u001b[43m \u001b[49m\u001b[38;5;241;43m*\u001b[39;49m\u001b[43margs\u001b[49m\u001b[43m,\u001b[49m\u001b[43m \u001b[49m\u001b[38;5;241;43m*\u001b[39;49m\u001b[38;5;241;43m*\u001b[39;49m\u001b[43mkwargs\u001b[49m\u001b[43m)\u001b[49m\n",
      "\u001b[1;31mFileNotFoundError\u001b[0m: [Errno 2] No such file or directory: '../../assets/projects/_old_projects/lubrak-village-frontal-ps3_edited-e1654024061974.jpg'"
     ]
    }
   ],
   "source": [
    "asset_folder = \"../../assets/projects/_old_projects/\"\n",
    "asset_folder_md = \"assets/projects/_old_projects/\"\n",
    "for image in images:\n",
    "    \n",
    "    src = image[\"src\"]\n",
    "    filename = src.split(\"/\")[-1]\n",
    "    print('![]({{' +asset_folder_md + filename+ ' | absolute_url}}') \n",
    "\n",
    "    data = requests.get(src).content \n",
    "    \n",
    "    # Opening a new file named img with extension .jpg \n",
    "    # This file would store the data of the image file \n",
    "    f = open(asset_folder + filename,'wb') \n",
    "    \n",
    "    # Storing the image data inside the data variable to the file \n",
    "    f.write(data) \n",
    "    f.close() "
   ]
  },
  {
   "cell_type": "code",
   "execution_count": null,
   "metadata": {},
   "outputs": [],
   "source": [
    "def download_images(asset_folder, og_webpage):\n",
    "    request = requests.get(og_webpage)\n",
    "    soup = BeautifulSoup(request.text)\n",
    "    images = soup.find(id=\"primary\").find_all(\"img\")\n",
    "    \n",
    "    asset_folder_md = asset_folder.replace(\"../\", \"\")\n",
    "    for image in images:\n",
    "        src = image[\"src\"]\n",
    "        filename = src.split(\"/\")[-1]\n",
    "        print('![]({{' +asset_folder_md + filename+ ' | absolute_url}}') \n",
    "\n",
    "        data = requests.get(src).content \n",
    "        \n",
    "        # Opening a new file named img with extension .jpg \n",
    "        # This file would store the data of the image file \n",
    "        f = open(asset_folder + filename,'wb') \n",
    "        \n",
    "        # Storing the image data inside the data variable to the file \n",
    "        f.write(data) \n",
    "        f.close() "
   ]
  },
  {
   "cell_type": "code",
   "execution_count": null,
   "metadata": {},
   "outputs": [
    {
     "name": "stdout",
     "output_type": "stream",
     "text": [
      "![]({{assets/projects/_old_projects/lubrak-village-frontal-ps3_edited-e1654024061974.jpg | absolute_url}}\n",
      "![]({{assets/projects/_old_projects/aye-aye-baby_250x250.jpg | absolute_url}}\n",
      "![]({{assets/projects/_old_projects/burronw_owl_thumbnail.png | absolute_url}}\n",
      "![]({{assets/projects/_old_projects/project_mayaarchaeology.jpg | absolute_url}}\n",
      "![]({{assets/projects/_old_projects/tahoe_underwater.jpg | absolute_url}}\n",
      "![]({{assets/projects/_old_projects/project_angrybirds4.jpg | absolute_url}}\n",
      "![]({{assets/projects/_old_projects/elephant_monitoring_thumb.jpg | absolute_url}}\n",
      "![]({{assets/projects/_old_projects/tiger_tracker_thumb.jpg | absolute_url}}\n",
      "![]({{assets/projects/_old_projects/wolf_tracking_thumb.jpg | absolute_url}}\n",
      "![]({{assets/projects/_old_projects/bird_nest_thumb.jpg | absolute_url}}\n",
      "![]({{assets/projects/_old_projects/project_deldios.jpg | absolute_url}}\n",
      "![]({{assets/projects/_old_projects/aerial_lidar_thumb.jpg | absolute_url}}\n",
      "![]({{assets/projects/_old_projects/autonomous_plane_thumb.jpg | absolute_url}}\n",
      "![]({{assets/projects/_old_projects/copter_thumb.jpg | absolute_url}}\n",
      "![]({{assets/projects/_old_projects/project_condorcam.png | absolute_url}}\n",
      "![]({{assets/projects/_old_projects/project_balloon.jpg | absolute_url}}\n",
      "![]({{assets/projects/_old_projects/project_cameratrap.jpg | absolute_url}}\n",
      "![]({{assets/projects/_old_projects/project_vehicle.jpg | absolute_url}}\n",
      "![]({{assets/projects/_old_projects/project_tunnelbot.jpg | absolute_url}}\n",
      "![]({{assets/projects/_old_projects/openrov.jpg | absolute_url}}\n",
      "![]({{assets/projects/_old_projects/underwater_cave_mapping_thumb.jpg | absolute_url}}\n",
      "![]({{assets/projects/_old_projects/vaquita_monitoring.jpg | absolute_url}}\n",
      "![]({{assets/projects/_old_projects/harpy-eagle.jpg | absolute_url}}\n"
     ]
    }
   ],
   "source": [
    "download_images(\"../../assets/projects/_old_projects/\", \"https://e4e.ucsd.edu/past-projects\")"
   ]
  },
  {
   "cell_type": "markdown",
   "metadata": {},
   "source": [
    "# Goal: Automate Page Creation"
   ]
  },
  {
   "cell_type": "code",
   "execution_count": null,
   "metadata": {},
   "outputs": [
    {
     "ename": "KeyboardInterrupt",
     "evalue": "Interrupted by user",
     "output_type": "error",
     "traceback": [
      "\u001b[1;31m---------------------------------------------------------------------------\u001b[0m",
      "\u001b[1;31mKeyboardInterrupt\u001b[0m                         Traceback (most recent call last)",
      "Cell \u001b[1;32mIn[22], line 1\u001b[0m\n\u001b[1;32m----> 1\u001b[0m \u001b[38;5;28;43minput\u001b[39;49m\u001b[43m(\u001b[49m\u001b[38;5;241;43m0\u001b[39;49m\u001b[43m)\u001b[49m\n",
      "File \u001b[1;32mc:\\Users\\seanh\\miniconda3\\envs\\asid\\lib\\site-packages\\ipykernel\\kernelbase.py:1270\u001b[0m, in \u001b[0;36mKernel.raw_input\u001b[1;34m(self, prompt)\u001b[0m\n\u001b[0;32m   1268\u001b[0m     msg \u001b[38;5;241m=\u001b[39m \u001b[38;5;124m\"\u001b[39m\u001b[38;5;124mraw_input was called, but this frontend does not support input requests.\u001b[39m\u001b[38;5;124m\"\u001b[39m\n\u001b[0;32m   1269\u001b[0m     \u001b[38;5;28;01mraise\u001b[39;00m StdinNotImplementedError(msg)\n\u001b[1;32m-> 1270\u001b[0m \u001b[38;5;28;01mreturn\u001b[39;00m \u001b[38;5;28;43mself\u001b[39;49m\u001b[38;5;241;43m.\u001b[39;49m\u001b[43m_input_request\u001b[49m\u001b[43m(\u001b[49m\n\u001b[0;32m   1271\u001b[0m \u001b[43m    \u001b[49m\u001b[38;5;28;43mstr\u001b[39;49m\u001b[43m(\u001b[49m\u001b[43mprompt\u001b[49m\u001b[43m)\u001b[49m\u001b[43m,\u001b[49m\n\u001b[0;32m   1272\u001b[0m \u001b[43m    \u001b[49m\u001b[38;5;28;43mself\u001b[39;49m\u001b[38;5;241;43m.\u001b[39;49m\u001b[43m_parent_ident\u001b[49m\u001b[43m[\u001b[49m\u001b[38;5;124;43m\"\u001b[39;49m\u001b[38;5;124;43mshell\u001b[39;49m\u001b[38;5;124;43m\"\u001b[39;49m\u001b[43m]\u001b[49m\u001b[43m,\u001b[49m\n\u001b[0;32m   1273\u001b[0m \u001b[43m    \u001b[49m\u001b[38;5;28;43mself\u001b[39;49m\u001b[38;5;241;43m.\u001b[39;49m\u001b[43mget_parent\u001b[49m\u001b[43m(\u001b[49m\u001b[38;5;124;43m\"\u001b[39;49m\u001b[38;5;124;43mshell\u001b[39;49m\u001b[38;5;124;43m\"\u001b[39;49m\u001b[43m)\u001b[49m\u001b[43m,\u001b[49m\n\u001b[0;32m   1274\u001b[0m \u001b[43m    \u001b[49m\u001b[43mpassword\u001b[49m\u001b[38;5;241;43m=\u001b[39;49m\u001b[38;5;28;43;01mFalse\u001b[39;49;00m\u001b[43m,\u001b[49m\n\u001b[0;32m   1275\u001b[0m \u001b[43m\u001b[49m\u001b[43m)\u001b[49m\n",
      "File \u001b[1;32mc:\\Users\\seanh\\miniconda3\\envs\\asid\\lib\\site-packages\\ipykernel\\kernelbase.py:1313\u001b[0m, in \u001b[0;36mKernel._input_request\u001b[1;34m(self, prompt, ident, parent, password)\u001b[0m\n\u001b[0;32m   1310\u001b[0m \u001b[38;5;28;01mexcept\u001b[39;00m \u001b[38;5;167;01mKeyboardInterrupt\u001b[39;00m:\n\u001b[0;32m   1311\u001b[0m     \u001b[38;5;66;03m# re-raise KeyboardInterrupt, to truncate traceback\u001b[39;00m\n\u001b[0;32m   1312\u001b[0m     msg \u001b[38;5;241m=\u001b[39m \u001b[38;5;124m\"\u001b[39m\u001b[38;5;124mInterrupted by user\u001b[39m\u001b[38;5;124m\"\u001b[39m\n\u001b[1;32m-> 1313\u001b[0m     \u001b[38;5;28;01mraise\u001b[39;00m \u001b[38;5;167;01mKeyboardInterrupt\u001b[39;00m(msg) \u001b[38;5;28;01mfrom\u001b[39;00m \u001b[38;5;28;01mNone\u001b[39;00m\n\u001b[0;32m   1314\u001b[0m \u001b[38;5;28;01mexcept\u001b[39;00m \u001b[38;5;167;01mException\u001b[39;00m:\n\u001b[0;32m   1315\u001b[0m     \u001b[38;5;28mself\u001b[39m\u001b[38;5;241m.\u001b[39mlog\u001b[38;5;241m.\u001b[39mwarning(\u001b[38;5;124m\"\u001b[39m\u001b[38;5;124mInvalid Message:\u001b[39m\u001b[38;5;124m\"\u001b[39m, exc_info\u001b[38;5;241m=\u001b[39m\u001b[38;5;28;01mTrue\u001b[39;00m)\n",
      "\u001b[1;31mKeyboardInterrupt\u001b[0m: Interrupted by user"
     ]
    }
   ],
   "source": [
    "input(0)"
   ]
  },
  {
   "cell_type": "code",
   "execution_count": null,
   "metadata": {},
   "outputs": [],
   "source": [
    "def convert_to_markdown(asset_folder, og_webpage):\n",
    "    request = requests.get(og_webpage)\n",
    "    soup = BeautifulSoup(request.text)\n",
    "    images = soup.find(id=\"primary\").find_all(\"img\")\n",
    "    \n",
    "    asset_folder_md = asset_folder.replace(\"../\", \"\")\n",
    "    for image in images:\n",
    "        src = image[\"src\"]\n",
    "        filename = src.split(\"/\")[-1]\n",
    "        print('![]({{' +asset_folder_md + filename+ ' | absolute_url}}') \n",
    "\n",
    "        data = requests.get(src).content \n",
    "        \n",
    "        # Opening a new file named img with extension .jpg \n",
    "        # This file would store the data of the image file \n",
    "        f = open(asset_folder + filename,'wb') \n",
    "        \n",
    "        # Storing the image data inside the data variable to the file \n",
    "        f.write(data) \n",
    "        f.close()\n",
    "#download_images(\"../../assets/projects/_old_projects/aye-aye\", \"https://e4e.ucsd.edu/aye-aye-sleep-monitoring\") "
   ]
  },
  {
   "cell_type": "code",
   "execution_count": null,
   "metadata": {},
   "outputs": [],
   "source": [
    "request = requests.get(\"https://e4e.ucsd.edu/aye-aye-sleep-monitoring\")\n",
    "soup = BeautifulSoup(request.text)\n",
    "soup = soup.find(id=\"primary\")\n",
    "soup.find(tag=\"img\")"
   ]
  },
  {
   "cell_type": "code",
   "execution_count": null,
   "metadata": {},
   "outputs": [],
   "source": [
    "from bs4 import Tag\n",
    "import re"
   ]
  },
  {
   "cell_type": "code",
   "execution_count": null,
   "metadata": {},
   "outputs": [
    {
     "data": {
      "text/plain": [
       "['<div class=\"content-area\" id=\"primary\">',\n",
       " '<main class=\"site-main\" id=\"main\" role=\"main\">',\n",
       " '<!-- Main project title -->',\n",
       " '<article class=\"post-5800 page type-page status-publish hentry\" id=\"post-5800\">',\n",
       " '<header class=\"entry-header\">',\n",
       " '<h1 class=\"entry-title\">Aye-Aye Sleep Monitoring</h1>',\n",
       " '<!-- Added subnavigation bar -->',\n",
       " '<nav class=\"page-navigation\" id=\"page-navigation\" role=\"navigation\">',\n",
       " '<!--<h1 class=\"menu-toggle\">Menu</h1>-->',\n",
       " '<div class=\"screen-reader-text skip-link\">',\n",
       " '<a href=\"#content\" title=\"Skip to content\">Skip to content</a>',\n",
       " '</div>',\n",
       " '</nav><!-- #page-navigation -->',\n",
       " '</header><!-- .entry-header -->',\n",
       " '<!-- Added ability for only posts from a single category to be displayed on a page titled \"Project Updates\" -->',\n",
       " '<div class=\"single-entry-content entry-content\">',\n",
       " '<figure class=\"wp-block-image size-large\"><img alt=\"\" decoding=\"async\" src=\"https://sdzwildlifeexplorers.org/sites/default/files/2019-12/aye-aye-baby.jpg\"><figcaption class=\"wp-element-caption\">Baby aye-aye courtesy of SD Zoo Wildlife Alliance</figcaption></img></figure>',\n",
       " '<p>One challenge in caring for animals is being able to monitor the animal’s behavior, even when caretakers are not on duty.  This is especially challenging in nocturnal species such as the aye-aye, particularly when they are in environments with significant anthropogenic stimuli, such as at the San Diego Zoo in Balboa Park.</p>',\n",
       " '<p>We want to develop a system for intelligently monitoring animals 24/7 so that scientists and caretakers can easily locate the relevant and interesting data instead of poring over hours of irrelevant data.  This takes on several aspects – reliable long-life embedded sensor networks, big data management, and machine learning.</p>',\n",
       " '<figure class=\"wp-block-image size-large\"><img alt=\"\" class=\"wp-image-5934\" decoding=\"async\" fetchpriority=\"high\" height=\"604\" sizes=\"(max-width: 1074px) 100vw, 1074px\" src=\"https://e4e.ucsd.edu/wp-content/uploads/2023.01.09.on-box-render-1074x604.png\" srcset=\"https://e4e.ucsd.edu/wp-content/uploads/2023.01.09.on-box-render-1074x604.png 1074w, https://e4e.ucsd.edu/wp-content/uploads/2023.01.09.on-box-render-350x197.png 350w, https://e4e.ucsd.edu/wp-content/uploads/2023.01.09.on-box-render-768x432.png 768w, https://e4e.ucsd.edu/wp-content/uploads/2023.01.09.on-box-render-1536x864.png 1536w, https://e4e.ucsd.edu/wp-content/uploads/2023.01.09.on-box-render.png 1920w\" width=\"1074\"><figcaption class=\"wp-element-caption\">On-Box Sensor Unit</figcaption></img></figure>',\n",
       " '<p>If you have any of the following skillsets and are interested in this project, please reach out to our staff engineer Nathan Hui (<a href=\"javascript:DeCryptX(\\'2p0t1i3x3l0@3x2e1t3g0.1f0d1v\\')\">nthui@ucsd.edu</a>)</p>',\n",
       " '<ul>',\n",
       " '<li>Linux systemd</li>',\n",
       " '<li>Networking</li>',\n",
       " '<li>Python and multithreading</li>',\n",
       " '<li>Digital camera/lighting/optics</li>',\n",
       " '<li>3D Printing</li>',\n",
       " '<li>Test and evaluation</li>',\n",
       " '<li>Systems engineering</li>',\n",
       " '</ul>',\n",
       " '</div><!-- .entry-content -->',\n",
       " '</article><!-- #post-## -->',\n",
       " '</main><!-- #main -->',\n",
       " '</div>']"
      ]
     },
     "execution_count": 25,
     "metadata": {},
     "output_type": "execute_result"
    }
   ],
   "source": [
    "file = str(soup).split(\"\\n\")\n",
    "file"
   ]
  },
  {
   "cell_type": "code",
   "execution_count": null,
   "metadata": {},
   "outputs": [
    {
     "name": "stdout",
     "output_type": "stream",
     "text": [
      "<h1 class=\"entry-title\">Aye-Aye Sleep Monitoring</h1> ['Aye-Aye Sleep Monitoring']\n",
      "<!--<h1 class=\"menu-toggle\">Menu</h1>--> ['Menu']\n",
      "['https://sdzwildlifeexplorers.org/sites/default/files/2019-12/aye-aye-baby.jpg']\n",
      "<p>One challenge in caring for animals is being able to monitor the animal’s behavior, even when caretakers are not on duty.  This is especially challenging in nocturnal species such as the aye-aye, particularly when they are in environments with significant anthropogenic stimuli, such as at the San Diego Zoo in Balboa Park.</p>\n",
      "<p>We want to develop a system for intelligently monitoring animals 24/7 so that scientists and caretakers can easily locate the relevant and interesting data instead of poring over hours of irrelevant data.  This takes on several aspects – reliable long-life embedded sensor networks, big data management, and machine learning.</p>\n",
      "['https://e4e.ucsd.edu/wp-content/uploads/2023.01.09.on-box-render-1074x604.png']\n",
      "<p>If you have any of the following skillsets and are interested in this project, please reach out to our staff engineer Nathan Hui (<a href=\"javascript:DeCryptX('2p0t1i3x3l0@3x2e1t3g0.1f0d1v')\">nthui@ucsd.edu</a>)</p>\n",
      "=============================\n",
      "\n",
      "#Aye-Aye Sleep Monitoring\n",
      "#Menu\n",
      "![]({{assets/projects/_old_projects/aye-aye/aye-aye-baby.jpg | absolute_url}})\n",
      "One challenge in caring for animals is being able to monitor the animal’s behavior, even when caretakers are not on duty.  This is especially challenging in nocturnal species such as the aye-aye, particularly when they are in environments with significant anthropogenic stimuli, such as at the San Diego Zoo in Balboa Park.\n",
      "We want to develop a system for intelligently monitoring animals 24/7 so that scientists and caretakers can easily locate the relevant and interesting data instead of poring over hours of irrelevant data.  This takes on several aspects – reliable long-life embedded sensor networks, big data management, and machine learning.\n",
      "![]({{assets/projects/_old_projects/aye-aye/2023.01.09.on-box-render-1074x604.png | absolute_url}})\n",
      "If you have any of the following skillsets and are interested in this project, please reach out to our staff engineer Nathan Hui (<a href=\"javascript:DeCryptX('2p0t1i3x3l0@3x2e1t3g0.1f0d1v')\">nthui@ucsd.edu</a>)\n",
      " - Linux systemd\n",
      " - Networking\n",
      " - Python and multithreading\n",
      " - Digital camera/lighting/optics\n",
      " - 3D Printing\n",
      " - Test and evaluation\n",
      " - Systems engineering\n",
      "\n"
     ]
    }
   ],
   "source": [
    "asset_folder = \"../../assets/projects/_old_projects/aye-aye/\"\n",
    "asset_folder_md = asset_folder.replace(\"../\", \"\")\n",
    "file = str(soup).split(\"\\n\")\n",
    "\n",
    "new_file = \"\"\n",
    "for line in file:\n",
    "    if len(re.findall(r\"<h\\d\", line)) > 0:\n",
    "       print(line, re.findall(r\">([^<]+)<\", line))\n",
    "       new_line = \"#\" + (re.findall(r\">([^<]+)<\", line)[0]) # * int(line[2])\n",
    "       new_file += new_line\n",
    "    if line.startswith(\"<p\"):\n",
    "       print(line)\n",
    "       new_file += re.findall(r\"p>(.+)</p\", line)[0]\n",
    "    if line.startswith(\"<li\"):\n",
    "       new_file += \" - \" + re.findall(r\"li>(.+)</li\", line)[0]\n",
    "    if \"<img\" in line:\n",
    "       images = re.findall(r\"src=\\\"([/\\w.?\\-:_]+)\\\"\", line)\n",
    "       print(images)\n",
    "       for image in images:\n",
    "        src = image\n",
    "        filename = src.split(\"/\")[-1]\n",
    "        new_file += '![]({{\"' +asset_folder_md + filename+ '\" | absolute_url}})\\n' \n",
    "\n",
    "        data = requests.get(src).content \n",
    "        \n",
    "        # Opening a new file named img with extension .jpg \n",
    "        # This file would store the data of the image file \n",
    "        f = open(asset_folder + filename,'wb') \n",
    "        \n",
    "        # Storing the image data inside the data variable to the file \n",
    "        f.write(data) \n",
    "        f.close()\n",
    "       \n",
    "    new_file += \"\\n\"\n",
    "\n",
    "new_file = re.sub(r\"(\\n)+\", \"\\n\", new_file)\n",
    "print(\"=============================\")\n",
    "print(new_file)"
   ]
  },
  {
   "cell_type": "code",
   "execution_count": 14,
   "metadata": {},
   "outputs": [],
   "source": [
    "import re"
   ]
  },
  {
   "cell_type": "code",
   "execution_count": 15,
   "metadata": {},
   "outputs": [],
   "source": [
    "def convert_to_markdown(asset_folder, og_webpage):\n",
    "    request = requests.get(og_webpage)\n",
    "    soup = BeautifulSoup(request.text)\n",
    "    soup = soup.find(id=\"primary\")\n",
    "    file = str(soup).split(\"\\n\")\n",
    "\n",
    "    new_file = \"\"\n",
    "    for line in file:\n",
    "        if len(re.findall(r\"<h\\d\", line)) > 0:\n",
    "            print(line, re.findall(r\">([^<]+)<\", line))\n",
    "            new_line = \"#\" + (re.findall(r\">([^<]+)<\", line)[0]) # * int(line[2])\n",
    "            new_file += new_line\n",
    "        if line.startswith(\"<p\"):\n",
    "            print(line)\n",
    "            new_file += re.findall(r\"p>(.+)</p\", line)[0]\n",
    "        if line.startswith(\"<li\"):\n",
    "            new_file += \" - \" + re.findall(r\"li>(.+)</li\", line)[0]\n",
    "        if \"<img\" in line:\n",
    "            images = re.findall(r\"src=\\\"([/\\w.?\\-:_]+)\\\"\", line)\n",
    "            print(images)\n",
    "            for image in images:\n",
    "                src = image\n",
    "                filename = src.split(\"/\")[-1]\n",
    "                new_file += '![]({{\"' +asset_folder_md + filename+ '\" | absolute_url}})\\n' \n",
    "\n",
    "                data = requests.get(src).content \n",
    "                \n",
    "                # Opening a new file named img with extension .jpg \n",
    "                # This file would store the data of the image file \n",
    "                f = open(asset_folder + filename,'wb') \n",
    "                \n",
    "                # Storing the image data inside the data variable to the file \n",
    "                f.write(data) \n",
    "                f.close()\n",
    "        if \"iframe\" in line:\n",
    "            new_file += line    \n",
    "        new_file += \"\\n\"\n",
    "               \n",
    "\n",
    "    new_file = re.sub(r\"(\\n)+\", \"\\n\", new_file)\n",
    "    return new_file"
   ]
  },
  {
   "cell_type": "code",
   "execution_count": 16,
   "metadata": {},
   "outputs": [
    {
     "name": "stdout",
     "output_type": "stream",
     "text": [
      "<h1 class=\"entry-title\">Aye-Aye Sleep Monitoring</h1> ['Aye-Aye Sleep Monitoring']\n",
      "<!--<h1 class=\"menu-toggle\">Menu</h1>--> ['Menu']\n",
      "['https://sdzwildlifeexplorers.org/sites/default/files/2019-12/aye-aye-baby.jpg']\n"
     ]
    },
    {
     "ename": "FileNotFoundError",
     "evalue": "[Errno 2] No such file or directory: '../../assets/projects/_old_projects/aye-aye/aye-aye-baby.jpg'",
     "output_type": "error",
     "traceback": [
      "\u001b[1;31m---------------------------------------------------------------------------\u001b[0m",
      "\u001b[1;31mFileNotFoundError\u001b[0m                         Traceback (most recent call last)",
      "Cell \u001b[1;32mIn[16], line 1\u001b[0m\n\u001b[1;32m----> 1\u001b[0m \u001b[43mconvert_to_markdown\u001b[49m\u001b[43m(\u001b[49m\u001b[43m \u001b[49m\u001b[38;5;124;43m\"\u001b[39;49m\u001b[38;5;124;43m../../assets/projects/_old_projects/aye-aye/\u001b[39;49m\u001b[38;5;124;43m\"\u001b[39;49m\u001b[43m,\u001b[49m\u001b[43m \u001b[49m\u001b[38;5;124;43m\"\u001b[39;49m\u001b[38;5;124;43mhttps://e4e.ucsd.edu/aye-aye-sleep-monitoring\u001b[39;49m\u001b[38;5;124;43m\"\u001b[39;49m\u001b[43m)\u001b[49m\n",
      "Cell \u001b[1;32mIn[15], line 30\u001b[0m, in \u001b[0;36mconvert_to_markdown\u001b[1;34m(asset_folder, og_webpage)\u001b[0m\n\u001b[0;32m     26\u001b[0m data \u001b[38;5;241m=\u001b[39m requests\u001b[38;5;241m.\u001b[39mget(src)\u001b[38;5;241m.\u001b[39mcontent \n\u001b[0;32m     28\u001b[0m \u001b[38;5;66;03m# Opening a new file named img with extension .jpg \u001b[39;00m\n\u001b[0;32m     29\u001b[0m \u001b[38;5;66;03m# This file would store the data of the image file \u001b[39;00m\n\u001b[1;32m---> 30\u001b[0m f \u001b[38;5;241m=\u001b[39m \u001b[38;5;28;43mopen\u001b[39;49m\u001b[43m(\u001b[49m\u001b[43masset_folder\u001b[49m\u001b[43m \u001b[49m\u001b[38;5;241;43m+\u001b[39;49m\u001b[43m \u001b[49m\u001b[43mfilename\u001b[49m\u001b[43m,\u001b[49m\u001b[38;5;124;43m'\u001b[39;49m\u001b[38;5;124;43mwb\u001b[39;49m\u001b[38;5;124;43m'\u001b[39;49m\u001b[43m)\u001b[49m \n\u001b[0;32m     32\u001b[0m \u001b[38;5;66;03m# Storing the image data inside the data variable to the file \u001b[39;00m\n\u001b[0;32m     33\u001b[0m f\u001b[38;5;241m.\u001b[39mwrite(data) \n",
      "File \u001b[1;32mc:\\Users\\seanh\\miniconda3\\envs\\asid\\lib\\site-packages\\IPython\\core\\interactiveshell.py:284\u001b[0m, in \u001b[0;36m_modified_open\u001b[1;34m(file, *args, **kwargs)\u001b[0m\n\u001b[0;32m    277\u001b[0m \u001b[38;5;28;01mif\u001b[39;00m file \u001b[38;5;129;01min\u001b[39;00m {\u001b[38;5;241m0\u001b[39m, \u001b[38;5;241m1\u001b[39m, \u001b[38;5;241m2\u001b[39m}:\n\u001b[0;32m    278\u001b[0m     \u001b[38;5;28;01mraise\u001b[39;00m \u001b[38;5;167;01mValueError\u001b[39;00m(\n\u001b[0;32m    279\u001b[0m         \u001b[38;5;124mf\u001b[39m\u001b[38;5;124m\"\u001b[39m\u001b[38;5;124mIPython won\u001b[39m\u001b[38;5;124m'\u001b[39m\u001b[38;5;124mt let you open fd=\u001b[39m\u001b[38;5;132;01m{\u001b[39;00mfile\u001b[38;5;132;01m}\u001b[39;00m\u001b[38;5;124m by default \u001b[39m\u001b[38;5;124m\"\u001b[39m\n\u001b[0;32m    280\u001b[0m         \u001b[38;5;124m\"\u001b[39m\u001b[38;5;124mas it is likely to crash IPython. If you know what you are doing, \u001b[39m\u001b[38;5;124m\"\u001b[39m\n\u001b[0;32m    281\u001b[0m         \u001b[38;5;124m\"\u001b[39m\u001b[38;5;124myou can use builtins\u001b[39m\u001b[38;5;124m'\u001b[39m\u001b[38;5;124m open.\u001b[39m\u001b[38;5;124m\"\u001b[39m\n\u001b[0;32m    282\u001b[0m     )\n\u001b[1;32m--> 284\u001b[0m \u001b[38;5;28;01mreturn\u001b[39;00m \u001b[43mio_open\u001b[49m\u001b[43m(\u001b[49m\u001b[43mfile\u001b[49m\u001b[43m,\u001b[49m\u001b[43m \u001b[49m\u001b[38;5;241;43m*\u001b[39;49m\u001b[43margs\u001b[49m\u001b[43m,\u001b[49m\u001b[43m \u001b[49m\u001b[38;5;241;43m*\u001b[39;49m\u001b[38;5;241;43m*\u001b[39;49m\u001b[43mkwargs\u001b[49m\u001b[43m)\u001b[49m\n",
      "\u001b[1;31mFileNotFoundError\u001b[0m: [Errno 2] No such file or directory: '../../assets/projects/_old_projects/aye-aye/aye-aye-baby.jpg'"
     ]
    }
   ],
   "source": [
    "convert_to_markdown( \"../../assets/projects/_old_projects/aye-aye/\", \"https://e4e.ucsd.edu/aye-aye-sleep-monitoring\")"
   ]
  },
  {
   "cell_type": "code",
   "execution_count": 19,
   "metadata": {},
   "outputs": [],
   "source": [
    "file = convert_to_markdown( \"../../assets/projects/old_projects/burrowing-owls/\", \"https://e4e.ucsd.edu/burrowing-owl-behavior-classification\")\n",
    "file"
   ]
  },
  {
   "cell_type": "code",
   "execution_count": null,
   "metadata": {},
   "outputs": [],
   "source": []
  }
 ],
 "metadata": {
  "kernelspec": {
   "display_name": "asid",
   "language": "python",
   "name": "python3"
  },
  "language_info": {
   "codemirror_mode": {
    "name": "ipython",
    "version": 3
   },
   "file_extension": ".py",
   "mimetype": "text/x-python",
   "name": "python",
   "nbconvert_exporter": "python",
   "pygments_lexer": "ipython3",
   "version": "3.8.18"
  }
 },
 "nbformat": 4,
 "nbformat_minor": 2
}
